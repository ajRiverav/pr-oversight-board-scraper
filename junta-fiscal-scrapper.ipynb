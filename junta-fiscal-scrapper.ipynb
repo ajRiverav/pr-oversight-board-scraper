{
 "cells": [
  {
   "cell_type": "code",
   "execution_count": 1,
   "metadata": {
    "collapsed": true
   },
   "outputs": [],
   "source": [
    "import requests               #to request list of documents in htlm format\n",
    "from bs4 import BeautifulSoup #to parse html\n",
    "from datetime import datetime #to convert date to ISO8601\n",
    "import pandas as pd           #to save it as csv. \n",
    "import urllib.request         #to download documents\n",
    "import time                   #to give doc downloaded time to operate\n",
    "\n",
    "# TODO:\n",
    "# Change use of pandas to save to a csv file (use csv module instead)"
   ]
  },
  {
   "cell_type": "code",
   "execution_count": 2,
   "metadata": {},
   "outputs": [
    {
     "name": "stdout",
     "output_type": "stream",
     "text": [
      "Loading website:\n",
      "Could not access the website. Trying again...\n",
      "Could not access the website. Trying again...\n",
      "Done.\n"
     ]
    }
   ],
   "source": [
    "DEBUG_FLAG = False\n",
    "\n",
    "print(\"Loading website:\")\n",
    "if DEBUG_FLAG:\n",
    "    r = open('./test-files/Documents _ The Financial Oversight and Management Board for Puerto Rico.html')\n",
    "    soup = BeautifulSoup(r, 'html.parser')\n",
    "else:\n",
    "    tries_count = 0\n",
    "    while True:\n",
    "        try:\n",
    "            r = requests.get('https://juntasupervision.pr.gov/index.php/en/documents/')\n",
    "            break\n",
    "        except:\n",
    "            tries_count += 1\n",
    "            if tries_count>10:\n",
    "                print(\"Already tried 10 times...I'm giving up. Sorry.\")\n",
    "                break\n",
    "            else:\n",
    "                print(\"Could not access the website. Trying again...\")\n",
    "    soup = BeautifulSoup(r.content, 'html.parser')\n",
    "print(\"Done.\")"
   ]
  },
  {
   "cell_type": "code",
   "execution_count": 3,
   "metadata": {
    "collapsed": true
   },
   "outputs": [],
   "source": [
    "# Documents are placed in each row, so go straight to it\n",
    "\n",
    "doc_list_soup = soup.findAll(\"div\",{\"class\": \"doc-row\"});"
   ]
  },
  {
   "cell_type": "code",
   "execution_count": 4,
   "metadata": {
    "collapsed": true
   },
   "outputs": [],
   "source": [
    "# Store every document in a table row\n",
    "\n",
    "table = []\n",
    "\n",
    "for doc in doc_list_soup:\n",
    "    title = doc.a.getText()\n",
    "    \n",
    "    category = doc.find(\"div\",{\"class\": \"span2 cat\"}).getText()\n",
    "    \n",
    "    tmp_date = doc.find(\"div\",{\"class\": \"span2 date\"}).getText()\n",
    "    date = str(datetime.strptime(tmp_date, '%b.%d.%Y')) # convert to ISO-8601 date\n",
    "    \n",
    "    download_url = doc.a.get('href')\n",
    "    \n",
    "    download_title = doc.a.get('download')\n",
    "    \n",
    "    table.append( [title,category,date,download_url,download_title] )"
   ]
  },
  {
   "cell_type": "code",
   "execution_count": 5,
   "metadata": {},
   "outputs": [],
   "source": [
    "# Store data to a csv file\n",
    "\n",
    "csv_file = './new-downloaded-docs/doc-table.csv'\n",
    "\n",
    "df = pd.DataFrame(table)\n",
    "df.columns = ['title','category','date','download_url','download_title']\n",
    "df.to_csv(csv_file,index=False)"
   ]
  },
  {
   "cell_type": "code",
   "execution_count": null,
   "metadata": {},
   "outputs": [
    {
     "name": "stdout",
     "output_type": "stream",
     "text": [
      "Downloading file #1/422 - 5a69adb93dcb5.pdf\n",
      "Downloading file #2/422 - 5a690f48694e6.pdf\n",
      "Downloading file #3/422 - 5a690f2219943.pdf\n",
      "Downloading file #4/422 - 5a679e2013959.pdf\n",
      "Downloading file #5/422 - 5a62601e02956.pdf\n",
      "Downloading file #6/422 - 5a621243a45d4.pdf\n",
      "Downloading file #7/422 - 5a5fa7e7b6934.pdf\n",
      "Downloading file #8/422 - 5a57795d2c59f.pdf\n",
      "Downloading file #9/422 - 5a57795ccb604.pdf\n",
      "Downloading file #10/422 - 5a56bac7b256f.pdf\n",
      "Downloading file #11/422 - 5a56ba9f207ca.pdf\n",
      "Downloading file #12/422 - 5a539b3136233.pdf\n",
      "Downloading file #13/422 - 5a4fb20306ddf.pdf\n",
      "Downloading file #14/422 - 5a3d63e01cbda.pdf\n",
      "Downloading file #15/422 - 5a3d4341165f8.pdf\n",
      "Downloading file #16/422 - 5a3d3db653671.pdf\n",
      "Downloading file #17/422 - 5a3d3b8d59b6d.pdf\n",
      "Downloading file #18/422 - 5a3d3b81224ff.pdf\n",
      "Downloading file #19/422 - 5a3d3b78bdee2.pdf\n",
      "Downloading file #20/422 - 5a3d3b7462366.pdf\n",
      "Downloading file #21/422 - 5a3d3b6b2a7fd.pdf\n",
      "Downloading file #22/422 - 5a3d3b61dabb9.pdf\n",
      "Downloading file #23/422 - 5a3d3b5e617e0.pdf\n",
      "Downloading file #24/422 - 5a3d3b58483c1.pdf\n",
      "Downloading file #25/422 - 5a3d3b4884816.pdf\n",
      "Could not download file. Trying again.\n",
      "Downloading file #25/422 - 5a3d3b4884816.pdf\n",
      "Could not download file. Trying again.\n",
      "Downloading file #25/422 - 5a3d3b4884816.pdf\n",
      "Downloading file #26/422 - 5a3d3b38bd79b.pdf\n",
      "Downloading file #27/422 - 5a3d3b35a107c.pdf\n",
      "Could not download file. Trying again.\n",
      "Downloading file #27/422 - 5a3d3b35a107c.pdf\n",
      "Could not download file. Trying again.\n",
      "Downloading file #27/422 - 5a3d3b35a107c.pdf\n",
      "Downloading file #28/422 - 5a3aec980bdd7.pdf\n",
      "Could not download file. Trying again.\n",
      "Downloading file #28/422 - 5a3aec980bdd7.pdf\n",
      "Could not download file. Trying again.\n",
      "Downloading file #28/422 - 5a3aec980bdd7.pdf\n",
      "Could not download file. Trying again.\n",
      "Downloading file #28/422 - 5a3aec980bdd7.pdf\n",
      "Downloading file #29/422 - 5a3972237c661.pdf\n",
      "Could not download file. Trying again.\n",
      "Downloading file #29/422 - 5a3972237c661.pdf\n",
      "Could not download file. Trying again.\n",
      "Downloading file #29/422 - 5a3972237c661.pdf\n",
      "Could not download file. Trying again.\n",
      "Downloading file #29/422 - 5a3972237c661.pdf\n",
      "Could not download file. Trying again.\n",
      "Downloading file #29/422 - 5a3972237c661.pdf\n",
      "Could not download file. Trying again.\n",
      "Downloading file #29/422 - 5a3972237c661.pdf\n",
      "Could not download file. Trying again.\n",
      "Downloading file #29/422 - 5a3972237c661.pdf\n",
      "Downloading file #30/422 - 5a397094175e6.pdf\n",
      "Could not download file. Trying again.\n",
      "Downloading file #30/422 - 5a397094175e6.pdf\n",
      "Could not download file. Trying again.\n",
      "Downloading file #30/422 - 5a397094175e6.pdf\n",
      "Could not download file. Trying again.\n",
      "Downloading file #30/422 - 5a397094175e6.pdf\n",
      "Could not download file. Trying again.\n",
      "Downloading file #30/422 - 5a397094175e6.pdf\n",
      "Could not download file. Trying again.\n",
      "Downloading file #30/422 - 5a397094175e6.pdf\n",
      "Could not download file. Trying again.\n",
      "Downloading file #30/422 - 5a397094175e6.pdf\n",
      "Could not download file. Trying again.\n",
      "Downloading file #30/422 - 5a397094175e6.pdf\n",
      "Could not download file. Trying again.\n",
      "Downloading file #30/422 - 5a397094175e6.pdf\n",
      "Could not download file. Trying again.\n",
      "Downloading file #30/422 - 5a397094175e6.pdf\n",
      "Downloading file #31/422 - 5a37cc2b09131.pdf\n",
      "Could not download file. Trying again.\n",
      "Downloading file #31/422 - 5a37cc2b09131.pdf\n",
      "Could not download file. Trying again.\n",
      "Downloading file #31/422 - 5a37cc2b09131.pdf\n",
      "Downloading file #32/422 - 5a31aca8eee57.pdf\n",
      "Could not download file. Trying again.\n",
      "Downloading file #32/422 - 5a31aca8eee57.pdf\n",
      "Downloading file #33/422 - 5a31ac90d49b1.pdf\n",
      "Could not download file. Trying again.\n",
      "Downloading file #33/422 - 5a31ac90d49b1.pdf\n"
     ]
    }
   ],
   "source": [
    "# Download documents\n",
    "\n",
    "path = \"./new-downloaded-docs/\"\n",
    "\n",
    "num_files = len(df.download_url)\n",
    "\n",
    "for url,i in zip(df.download_url, range(num_files)):\n",
    "    fn = url.split('/')[-1]    \n",
    "    tries_count = 0\n",
    "    \n",
    "    while True:\n",
    "        try:\n",
    "            print(\"Downloading file #\" + str(i+1) + \"/\" + str(num_files) + \" - \" + fn)\n",
    "            urllib.request.urlretrieve(url, filename=path+fn)\n",
    "            break\n",
    "        except:\n",
    "            tries_count += 1\n",
    "            if tries_count>10:\n",
    "                print(\"Already tried 10 times...I'm giving up. Sorry\")\n",
    "            else:\n",
    "                print(\"Could not download file. Trying again.\")"
   ]
  }
 ],
 "metadata": {
  "kernelspec": {
   "display_name": "Python 3",
   "language": "python",
   "name": "python3"
  },
  "language_info": {
   "codemirror_mode": {
    "name": "ipython",
    "version": 3
   },
   "file_extension": ".py",
   "mimetype": "text/x-python",
   "name": "python",
   "nbconvert_exporter": "python",
   "pygments_lexer": "ipython3",
   "version": "3.6.1"
  }
 },
 "nbformat": 4,
 "nbformat_minor": 2
}
